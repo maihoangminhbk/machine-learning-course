{
 "cells": [
  {
   "cell_type": "code",
   "execution_count": 5,
   "metadata": {},
   "outputs": [],
   "source": [
    "import numpy as np\n",
    "import sklearn\n",
    "# we used the library sklearn here only to load the data\n",
    "\n",
    "# You dont have to care about matplotlib for now\n",
    "import matplotlib.pyplot as plt\n",
    "\n",
    "# load data from sklearn\n",
    "from sklearn.datasets import load_boston\n",
    "data = load_boston()"
   ]
  },
  {
   "cell_type": "code",
   "execution_count": 6,
   "metadata": {
    "scrolled": true
   },
   "outputs": [
    {
     "name": "stdout",
     "output_type": "stream",
     "text": [
      "dict_keys(['data', 'target', 'feature_names', 'DESCR', 'filename'])\n",
      "data.data :(506, 13), data.target: (506,), num_features: 13\n",
      "num_datapoints : 506\n"
     ]
    }
   ],
   "source": [
    "print(data.keys())\n",
    "X= data.data\n",
    "y = data.target\n",
    "feature_names = data.feature_names\n",
    "print('data.data :{0}, data.target: {1}, num_features: {2}'.format(X.shape, y.shape, len(feature_names)))\n",
    "print('num_datapoints : {}'.format(X.shape[0]))"
   ]
  },
  {
   "cell_type": "code",
   "execution_count": 7,
   "metadata": {},
   "outputs": [],
   "source": [
    "def training(X, y):\n",
    "    one = np.ones((X.shape[0], 1))\n",
    "    Xbar = np.concatenate((one, X), axis = 1)\n",
    "\n",
    "\n",
    "    A = np.dot(Xbar.T, Xbar)\n",
    "    b = np.dot(Xbar.T, y)\n",
    "    w = np.dot(np.linalg.pinv(A), b)\n",
    "\n",
    "    intercept = w[0]\n",
    "    coefficients = w[1:]\n",
    "    return coefficients, intercept\n",
    "coefficients, intercept = training(X, y)\n",
    "assert np.allclose(coefficients,\n",
    "                   np.array([-1.08011358e-01,  4.64204584e-02,  2.05586264e-02,  2.68673382e+00,\n",
    "                             -1.77666112e+01,  3.80986521e+00,  6.92224640e-04, -1.47556685e+00,\n",
    "                             3.06049479e-01, -1.23345939e-02, -9.52747232e-01,  9.31168327e-03,\n",
    "                             -5.24758378e-01]))\n",
    "assert np.allclose(intercept, 36.459488385090125)"
   ]
  },
  {
   "cell_type": "code",
   "execution_count": 8,
   "metadata": {},
   "outputs": [],
   "source": [
    "def prediction(X, coefficients, intercept):\n",
    "    w = np.array([intercept])\n",
    "    w = np.concatenate((w, coefficients))\n",
    "    one = np.ones((X.shape[0], 1))\n",
    "    Xbar = np.concatenate((one, X), axis = 1)\n",
    "    y_predict = Xbar @ w\n",
    "    return y_predict \n",
    "\n",
    "y_predict = prediction(X, coefficients, intercept)"
   ]
  },
  {
   "cell_type": "code",
   "execution_count": 9,
   "metadata": {},
   "outputs": [
    {
     "name": "stdout",
     "output_type": "stream",
     "text": [
      "21.89483118172921\n"
     ]
    }
   ],
   "source": [
    "def MSE(X, y_target, coefficients, intercept):\n",
    "    \"\"\"Calculate the mean square error of your model\n",
    "    X: is a the input matrix , which rows are examples and columns are features\n",
    "    y_target : a vector,contains the true housing prices for all houses in the dataset\n",
    "    coefficients and scalar: calculated above, used to compute y_predict\n",
    "    \n",
    "    return:\n",
    "    MSE: a scalar\"\"\"\n",
    "    \n",
    "    # compute y_predict: the price prediction of our model for all houses\n",
    "    #1 line of code\n",
    "    y_predict = prediction(X, coefficients, intercept)\n",
    "    \n",
    "    # calculate MSE based on y_predict and y_target\n",
    "    assert len(y_predict) == len(y_target)\n",
    "    # 1 line of code\n",
    "    MSE = ((y_predict - y_target) @ (y_predict - y_target).T) / X.shape[0]\n",
    "\n",
    "    return MSE\n",
    "mse = MSE(X, y, coefficients, intercept)\n",
    "print(mse)\n",
    "assert np.allclose(mse, 21.894831181729202)"
   ]
  },
  {
   "cell_type": "code",
   "execution_count": 10,
   "metadata": {},
   "outputs": [],
   "source": [
    "## ploting to see our model\n",
    "def visualize_results(y_predict, y_target):\n",
    "    \"\"\" this function plot your y_predict and y_predict to see how closed they are\"\"\"\n",
    "    \n",
    "    plt.figure(figsize=(5, 4))\n",
    "    plt.scatter(y_target, y_predict)\n",
    "    plt.plot([0, 50], [0, 50], '--k')\n",
    "    plt.axis('tight')\n",
    "    plt.xlabel('True price ($1000s)')\n",
    "    plt.ylabel('Predicted price ($1000s)')\n",
    "    plt.tight_layout()"
   ]
  },
  {
   "cell_type": "code",
   "execution_count": 11,
   "metadata": {},
   "outputs": [
    {
     "data": {
      "image/png": "[encoded data removed]",
      "text/plain": [
       "<Figure size 360x288 with 1 Axes>"
      ]
     },
     "metadata": {
      "needs_background": "light"
     },
     "output_type": "display_data"
    }
   ],
   "source": [
    "visualize_results(prediction(X, coefficients, intercept), y)"
   ]
  }
 ],
 "metadata": {
  "kernelspec": {
   "display_name": "Python 3",
   "language": "python",
   "name": "python3"
  },
  "language_info": {
   "codemirror_mode": {
    "name": "ipython",
    "version": 3
   },
   "file_extension": ".py",
   "mimetype": "text/x-python",
   "name": "python",
   "nbconvert_exporter": "python",
   "pygments_lexer": "ipython3",
   "version": "3.7.3"
  }
 },
 "nbformat": 4,
 "nbformat_minor": 2
}
